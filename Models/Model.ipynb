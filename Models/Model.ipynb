{
  "cells": [
    {
      "cell_type": "code",
      "execution_count": 1,
      "metadata": {
        "colab": {
          "base_uri": "https://localhost:8080/"
        },
        "id": "j9-0RgUlV7QZ",
        "outputId": "a4de2e77-6915-4f81-dd4b-16a238b671ac"
      },
      "outputs": [
        {
          "name": "stdout",
          "output_type": "stream",
          "text": [
            "Mounted at /content/drive\n"
          ]
        }
      ],
      "source": [
        "# Mount Google Drive to access dataset\n",
        "from google.colab import drive\n",
        "drive.mount('/content/drive')"
      ]
    },
    {
      "cell_type": "code",
      "execution_count": null,
      "metadata": {
        "id": "8fkpE9hNWXiV"
      },
      "outputs": [],
      "source": [
        "import os\n",
        "import shutil\n",
        "import numpy as np\n",
        "import tensorflow as tf\n",
        "import pandas as pd\n",
        "from tensorflow import keras\n",
        "from tensorflow.keras.preprocessing.image import ImageDataGenerator\n",
        "from tensorflow.keras.models import Sequential\n",
        "from tensorflow.keras.applications import ResNet50\n",
        "from tensorflow.keras.models import Model\n",
        "from tensorflow.keras.layers import Conv2D, MaxPooling2D, Flatten, Dense, Dropout\n",
        "from tensorflow.keras.optimizers import Adam\n",
        "import matplotlib.pyplot as plt"
      ]
    },
    {
      "cell_type": "code",
      "execution_count": null,
      "metadata": {
        "colab": {
          "base_uri": "https://localhost:8080/"
        },
        "id": "4ZsE31GylUkQ",
        "outputId": "8da7c32d-5212-4b00-faa3-c29ba7958ffd"
      },
      "outputs": [
        {
          "name": "stdout",
          "output_type": "stream",
          "text": [
            "✅ Merged folder created at: /content/drive/MyDrive/ham10000_dataset/HAM10000_merged_images\n",
            "Total images in merged folder: 10015\n"
          ]
        }
      ],
      "source": [
        "\n",
        "# Define dataset paths\n",
        "part1 = \"/content/drive/MyDrive/ham10000_dataset/HAM10000_images_part_1\"\n",
        "part2 = \"/content/drive/MyDrive/ham10000_dataset/HAM10000_images_part_2\"\n",
        "metadata_csv = \"/content/drive/MyDrive/ham10000_dataset/HAM10000_metadata.csv\"\n",
        "merged_folder = \"/content/drive/MyDrive/ham10000_dataset/HAM10000_merged_images\"\n",
        "\n",
        "# Create Merged Folder if it doesn't exist\n",
        "os.makedirs(merged_folder, exist_ok=True)\n",
        "\n",
        "# Copy Images from Part 1 & Part 2\n",
        "for folder in [part1, part2]:\n",
        "    if os.path.exists(folder):  # Check if folder exists before copying\n",
        "        for file in os.listdir(folder):\n",
        "            src_path = os.path.join(folder, file)\n",
        "            dst_path = os.path.join(merged_folder, file)\n",
        "            if not os.path.exists(dst_path):  # Avoid duplicate copies\n",
        "                shutil.copy(src_path, dst_path)\n",
        "\n",
        "print(f\" Merged folder created at: {merged_folder}\")\n",
        "print(f\"Total images in merged folder: {len(os.listdir(merged_folder))}\")\n"
      ]
    },
    {
      "cell_type": "code",
      "execution_count": null,
      "metadata": {
        "id": "KNHEAPHWnP75"
      },
      "outputs": [],
      "source": [
        "# Load metadata for labels\n",
        "df = pd.read_csv(metadata_csv)\n",
        "df = df[['image_id', 'dx']]  # Keep only image ID and diagnosis\n",
        "df['image_id'] = df['image_id'] + \".jpg\"  # Add .jpg extension\n",
        "df = df.set_index('image_id')  # Set image_id as index"
      ]
    },
    {
      "cell_type": "code",
      "execution_count": null,
      "metadata": {
        "id": "Qjf1tZU7n_SQ"
      },
      "outputs": [],
      "source": [
        "# Define image size & batch size\n",
        "IMG_SIZE = (224, 224)\n",
        "BATCH_SIZE = 32"
      ]
    },
    {
      "cell_type": "code",
      "execution_count": null,
      "metadata": {
        "id": "3Kpp3PLNoD0D"
      },
      "outputs": [],
      "source": [
        "# Create directories for each class\n",
        "output_dir = \"/content/ham10000_dataset\"\n",
        "os.makedirs(output_dir, exist_ok=True)"
      ]
    },
    {
      "cell_type": "code",
      "execution_count": null,
      "metadata": {
        "id": "k8aTng-RoLsp"
      },
      "outputs": [],
      "source": [
        "# Create subfolders for each label\n",
        "classes = df['dx'].unique()\n",
        "for c in classes:\n",
        "    os.makedirs(os.path.join(output_dir, c), exist_ok=True)"
      ]
    },
    {
      "cell_type": "code",
      "execution_count": null,
      "metadata": {
        "id": "_G23TcIUoRdr"
      },
      "outputs": [],
      "source": [
        "# Move images into respective class folders\n",
        "for image in os.listdir(merged_folder):\n",
        "    if image in df.index:\n",
        "        label = df.loc[image, 'dx']\n",
        "        shutil.move(os.path.join(merged_folder, image), os.path.join(output_dir, label, image))"
      ]
    },
    {
      "cell_type": "code",
      "execution_count": null,
      "metadata": {
        "colab": {
          "base_uri": "https://localhost:8080/"
        },
        "id": "Y0STyQpBptx9",
        "outputId": "1d52a1d7-19ed-40f1-dd69-10ea26d9bd6e"
      },
      "outputs": [
        {
          "name": "stdout",
          "output_type": "stream",
          "text": [
            "✅ Images have been organized into class folders at: /content/drive/MyDrive/ham10000_dataset/HAM10000_organized\n",
            "📂 bkl: 1099 images\n",
            "📂 nv: 6705 images\n",
            "📂 df: 115 images\n",
            "📂 mel: 1113 images\n",
            "📂 vasc: 142 images\n",
            "📂 bcc: 514 images\n",
            "📂 akiec: 327 images\n"
          ]
        }
      ],
      "source": [
        "import os\n",
        "import shutil\n",
        "import pandas as pd\n",
        "\n",
        "# Google Drive Paths\n",
        "dataset_dir = \"/content/drive/MyDrive/ham10000_dataset\"\n",
        "part1 = os.path.join(dataset_dir, \"HAM10000_images_part_1\")\n",
        "part2 = os.path.join(dataset_dir, \"HAM10000_images_part_2\")\n",
        "metadata_path = os.path.join(dataset_dir, \"HAM10000_metadata.csv\")\n",
        "merged_folder = os.path.join(dataset_dir, \"HAM10000_organized\")\n",
        "\n",
        "# Create Merged Folder if it doesn't exist\n",
        "os.makedirs(merged_folder, exist_ok=True)\n",
        "\n",
        "# Load Metadata File\n",
        "df = pd.read_csv(metadata_path)\n",
        "\n",
        "# Iterate through rows to organize images\n",
        "for _, row in df.iterrows():\n",
        "    image_name = row['image_id'] + \".jpg\"  # Image filename\n",
        "    class_label = row['dx']  # Class label (e.g., 'mel', 'nv', etc.)\n",
        "\n",
        "    # Create class folder inside merged folder\n",
        "    class_folder = os.path.join(merged_folder, class_label)\n",
        "    os.makedirs(class_folder, exist_ok=True)\n",
        "\n",
        "    # Find the image in part1 or part2 and move it\n",
        "    src_path = None\n",
        "    for folder in [part1, part2]:\n",
        "        potential_path = os.path.join(folder, image_name)\n",
        "        if os.path.exists(potential_path):\n",
        "            src_path = potential_path\n",
        "            break\n",
        "\n",
        "    # Move the image if found\n",
        "    if src_path:\n",
        "        dst_path = os.path.join(class_folder, image_name)\n",
        "        shutil.move(src_path, dst_path)\n",
        "\n",
        "print(f\"Images have been organized into class folders at: {merged_folder}\")\n",
        "\n",
        "# Check the number of images in each class\n",
        "for class_name in os.listdir(merged_folder):\n",
        "    class_path = os.path.join(merged_folder, class_name)\n",
        "    if os.path.isdir(class_path):\n",
        "        print(f\" {class_name}: {len(os.listdir(class_path))} images\")\n"
      ]
    },
    {
      "cell_type": "code",
      "execution_count": null,
      "metadata": {
        "colab": {
          "base_uri": "https://localhost:8080/"
        },
        "id": "fCA40dO1qXoZ",
        "outputId": "a21db88e-e594-4a47-ee46-2be1572cbeaf"
      },
      "outputs": [
        {
          "name": "stdout",
          "output_type": "stream",
          "text": [
            "✅ Organized dataset found at: /content/drive/MyDrive/ham10000_dataset/HAM10000_organized\n",
            "Classes available:\n",
            "📂 bkl: 1099 images\n",
            "📂 nv: 6705 images\n",
            "📂 df: 115 images\n",
            "📂 mel: 1113 images\n",
            "📂 vasc: 142 images\n",
            "📂 bcc: 514 images\n",
            "📂 akiec: 327 images\n"
          ]
        }
      ],
      "source": [
        "import os\n",
        "\n",
        "organized_folder = \"/content/drive/MyDrive/ham10000_dataset/HAM10000_organized\"\n",
        "\n",
        "# Check if the organized dataset exists\n",
        "if os.path.exists(organized_folder):\n",
        "    print(f\" Organized dataset found at: {organized_folder}\")\n",
        "    print(\"Classes available:\")\n",
        "    for class_name in os.listdir(organized_folder):\n",
        "        class_path = os.path.join(organized_folder, class_name)\n",
        "        print(f\" {class_name}: {len(os.listdir(class_path))} images\")\n",
        "else:\n",
        "    print(\" Organized dataset NOT found!\")\n"
      ]
    },
    {
      "cell_type": "code",
      "execution_count": null,
      "metadata": {
        "id": "V_PG_q4Brqls"
      },
      "outputs": [],
      "source": [
        "#  Define dataset path (already organized by class)\n",
        "dataset_path = \"/content/drive/MyDrive/ham10000_dataset/HAM10000_organized\""
      ]
    },
    {
      "cell_type": "code",
      "execution_count": null,
      "metadata": {
        "id": "Hk5M2Kgjr0UG"
      },
      "outputs": [],
      "source": [
        "#  Define image size & batch size\n",
        "IMG_SIZE = (224, 224)\n",
        "BATCH_SIZE = 32"
      ]
    },
    {
      "cell_type": "code",
      "execution_count": null,
      "metadata": {
        "id": "z8nMc-c-r4yh"
      },
      "outputs": [],
      "source": [
        "#  Data Augmentation\n",
        "datagen = ImageDataGenerator(\n",
        "    rescale=1./255,\n",
        "    validation_split=0.2,  # 80% train, 20% validation\n",
        "    rotation_range=20,\n",
        "    width_shift_range=0.2,\n",
        "    height_shift_range=0.2,\n",
        "    horizontal_flip=True\n",
        ")"
      ]
    },
    {
      "cell_type": "code",
      "execution_count": null,
      "metadata": {
        "colab": {
          "base_uri": "https://localhost:8080/"
        },
        "id": "RQpFPTrlr9II",
        "outputId": "a9628aca-9ef5-44fb-de04-0dc360045fab"
      },
      "outputs": [
        {
          "name": "stdout",
          "output_type": "stream",
          "text": [
            "Found 8015 images belonging to 7 classes.\n"
          ]
        }
      ],
      "source": [
        "#  Load training data from organized class folders\n",
        "train_generator = datagen.flow_from_directory(\n",
        "    dataset_path,\n",
        "    target_size=IMG_SIZE,\n",
        "    batch_size=BATCH_SIZE,\n",
        "    class_mode='categorical',\n",
        "    subset='training'\n",
        ")"
      ]
    },
    {
      "cell_type": "code",
      "execution_count": null,
      "metadata": {
        "colab": {
          "base_uri": "https://localhost:8080/"
        },
        "id": "jroCU4ZmsDfA",
        "outputId": "baadab45-492d-485d-9447-30f2579807e5"
      },
      "outputs": [
        {
          "name": "stdout",
          "output_type": "stream",
          "text": [
            "Found 2000 images belonging to 7 classes.\n"
          ]
        }
      ],
      "source": [
        "#  Load validation data\n",
        "val_generator = datagen.flow_from_directory(\n",
        "    dataset_path,\n",
        "    target_size=IMG_SIZE,\n",
        "    batch_size=BATCH_SIZE,\n",
        "    class_mode='categorical',\n",
        "    subset='validation'\n",
        ")"
      ]
    },
    {
      "cell_type": "code",
      "execution_count": null,
      "metadata": {
        "id": "zhDdm5JmsH_h"
      },
      "outputs": [],
      "source": [
        "#  Get number of classes\n",
        "num_classes = len(train_generator.class_indices)"
      ]
    },
    {
      "cell_type": "code",
      "execution_count": null,
      "metadata": {
        "colab": {
          "base_uri": "https://localhost:8080/"
        },
        "id": "HJBZurotsMwL",
        "outputId": "2b000a01-ad4c-49b3-aad3-79c163d39680"
      },
      "outputs": [
        {
          "name": "stderr",
          "output_type": "stream",
          "text": [
            "/usr/local/lib/python3.11/dist-packages/keras/src/layers/convolutional/base_conv.py:107: UserWarning: Do not pass an `input_shape`/`input_dim` argument to a layer. When using Sequential models, prefer using an `Input(shape)` object as the first layer in the model instead.\n",
            "  super().__init__(activity_regularizer=activity_regularizer, **kwargs)\n"
          ]
        }
      ],
      "source": [
        "#  CNN Model\n",
        "model = Sequential([\n",
        "    Conv2D(32, (3,3), activation='relu', input_shape=(224, 224, 3)),\n",
        "    MaxPooling2D(2,2),\n",
        "    Conv2D(64, (3,3), activation='relu'),\n",
        "    MaxPooling2D(2,2),\n",
        "    Conv2D(128, (3,3), activation='relu'),\n",
        "    MaxPooling2D(2,2),\n",
        "    Flatten(),\n",
        "    Dense(512, activation='relu'),\n",
        "    Dropout(0.5),\n",
        "    Dense(num_classes, activation='softmax')  # Dynamically set classes\n",
        "])"
      ]
    },
    {
      "cell_type": "code",
      "execution_count": null,
      "metadata": {
        "id": "OBheF2Y1swCG"
      },
      "outputs": [],
      "source": [
        "#  Compile Model\n",
        "model.compile(optimizer=Adam(learning_rate=0.0001),\n",
        "              loss='categorical_crossentropy',\n",
        "              metrics=['accuracy'])"
      ]
    },
    {
      "cell_type": "code",
      "execution_count": null,
      "metadata": {
        "colab": {
          "base_uri": "https://localhost:8080/"
        },
        "id": "1P7xo3SZsz7L",
        "outputId": "80b8cbed-2e88-44c1-b1ee-6ce1d71d3075"
      },
      "outputs": [
        {
          "name": "stderr",
          "output_type": "stream",
          "text": [
            "/usr/local/lib/python3.11/dist-packages/keras/src/trainers/data_adapters/py_dataset_adapter.py:121: UserWarning: Your `PyDataset` class should call `super().__init__(**kwargs)` in its constructor. `**kwargs` can include `workers`, `use_multiprocessing`, `max_queue_size`. Do not pass these arguments to `fit()`, as they will be ignored.\n",
            "  self._warn_if_super_not_called()\n"
          ]
        },
        {
          "name": "stdout",
          "output_type": "stream",
          "text": [
            "Epoch 1/10\n",
            "\u001b[1m251/251\u001b[0m \u001b[32m━━━━━━━━━━━━━━━━━━━━\u001b[0m\u001b[37m\u001b[0m \u001b[1m245s\u001b[0m 942ms/step - accuracy: 0.6473 - loss: 1.1388 - val_accuracy: 0.6705 - val_loss: 0.9043\n",
            "Epoch 2/10\n",
            "\u001b[1m251/251\u001b[0m \u001b[32m━━━━━━━━━━━━━━━━━━━━\u001b[0m\u001b[37m\u001b[0m \u001b[1m220s\u001b[0m 879ms/step - accuracy: 0.6680 - loss: 0.9382 - val_accuracy: 0.6760 - val_loss: 0.8466\n",
            "Epoch 3/10\n",
            "\u001b[1m251/251\u001b[0m \u001b[32m━━━━━━━━━━━━━━━━━━━━\u001b[0m\u001b[37m\u001b[0m \u001b[1m205s\u001b[0m 816ms/step - accuracy: 0.6727 - loss: 0.8787 - val_accuracy: 0.6925 - val_loss: 0.8037\n",
            "Epoch 4/10\n",
            "\u001b[1m251/251\u001b[0m \u001b[32m━━━━━━━━━━━━━━━━━━━━\u001b[0m\u001b[37m\u001b[0m \u001b[1m203s\u001b[0m 810ms/step - accuracy: 0.6796 - loss: 0.8500 - val_accuracy: 0.7055 - val_loss: 0.7859\n",
            "Epoch 5/10\n",
            "\u001b[1m251/251\u001b[0m \u001b[32m━━━━━━━━━━━━━━━━━━━━\u001b[0m\u001b[37m\u001b[0m \u001b[1m202s\u001b[0m 806ms/step - accuracy: 0.7055 - loss: 0.8113 - val_accuracy: 0.6985 - val_loss: 0.8011\n",
            "Epoch 6/10\n",
            "\u001b[1m251/251\u001b[0m \u001b[32m━━━━━━━━━━━━━━━━━━━━\u001b[0m\u001b[37m\u001b[0m \u001b[1m202s\u001b[0m 804ms/step - accuracy: 0.7068 - loss: 0.7995 - val_accuracy: 0.7100 - val_loss: 0.7593\n",
            "Epoch 7/10\n",
            "\u001b[1m251/251\u001b[0m \u001b[32m━━━━━━━━━━━━━━━━━━━━\u001b[0m\u001b[37m\u001b[0m \u001b[1m203s\u001b[0m 811ms/step - accuracy: 0.7071 - loss: 0.7908 - val_accuracy: 0.7200 - val_loss: 0.7331\n",
            "Epoch 8/10\n",
            "\u001b[1m251/251\u001b[0m \u001b[32m━━━━━━━━━━━━━━━━━━━━\u001b[0m\u001b[37m\u001b[0m \u001b[1m201s\u001b[0m 803ms/step - accuracy: 0.7210 - loss: 0.7527 - val_accuracy: 0.7285 - val_loss: 0.7212\n",
            "Epoch 9/10\n",
            "\u001b[1m251/251\u001b[0m \u001b[32m━━━━━━━━━━━━━━━━━━━━\u001b[0m\u001b[37m\u001b[0m \u001b[1m204s\u001b[0m 812ms/step - accuracy: 0.7235 - loss: 0.7406 - val_accuracy: 0.7245 - val_loss: 0.7333\n",
            "Epoch 10/10\n",
            "\u001b[1m251/251\u001b[0m \u001b[32m━━━━━━━━━━━━━━━━━━━━\u001b[0m\u001b[37m\u001b[0m \u001b[1m203s\u001b[0m 807ms/step - accuracy: 0.7200 - loss: 0.7505 - val_accuracy: 0.7230 - val_loss: 0.7133\n"
          ]
        }
      ],
      "source": [
        "#  Train Model\n",
        "history = model.fit(train_generator, validation_data=val_generator, epochs=30)"
      ]
    },
    {
      "cell_type": "code",
      "execution_count": null,
      "metadata": {},
      "outputs": [],
      "source": []
    },
    {
      "cell_type": "code",
      "execution_count": null,
      "metadata": {
        "colab": {
          "base_uri": "https://localhost:8080/"
        },
        "id": "boAfiSSD0yp1",
        "outputId": "26f3d1a0-9b51-4dcf-ab14-812832e93c28"
      },
      "outputs": [
        {
          "name": "stderr",
          "output_type": "stream",
          "text": [
            "WARNING:absl:You are saving your model as an HDF5 file via `model.save()` or `keras.saving.save_model(model)`. This file format is considered legacy. We recommend using instead the native Keras format, e.g. `model.save('my_model.keras')` or `keras.saving.save_model(model, 'my_model.keras')`. \n"
          ]
        }
      ],
      "source": [
        "#  Save Model\n",
        "model.save(\"/content/drive/MyDrive/HAM10000_CNN.h5\")"
      ]
    },
    {
      "cell_type": "code",
      "execution_count": null,
      "metadata": {
        "colab": {
          "base_uri": "https://localhost:8080/",
          "height": 391
        },
        "id": "8XlnHsaF08v9",
        "outputId": "0285aaf0-430f-449b-8a54-cb229c9e82a6"
      },
      "outputs": [
        {
          "data": {
            "image/png": "[encoded data removed]",
            "text/plain": [
              "<Figure size 1200x400 with 2 Axes>"
            ]
          },
          "metadata": {},
          "output_type": "display_data"
        }
      ],
      "source": [
        " # Plot Accuracy & Loss\n",
        "plt.figure(figsize=(12, 4))\n",
        "plt.subplot(1, 2, 1)\n",
        "plt.plot(history.history['accuracy'], label='Train Accuracy')\n",
        "plt.plot(history.history['val_accuracy'], label='Validation Accuracy')\n",
        "plt.legend()\n",
        "plt.title('Accuracy')\n",
        "\n",
        "plt.subplot(1, 2, 2)\n",
        "plt.plot(history.history['loss'], label='Train Loss')\n",
        "plt.plot(history.history['val_loss'], label='Validation Loss')\n",
        "plt.legend()\n",
        "plt.title('Loss')\n",
        "\n",
        "plt.show()"
      ]
    },
    {
      "cell_type": "code",
      "execution_count": null,
      "metadata": {
        "colab": {
          "base_uri": "https://localhost:8080/"
        },
        "id": "SqzJ8tZIEBid",
        "outputId": "5d6a6864-3265-4e02-98cf-d7f9b8417d52"
      },
      "outputs": [
        {
          "name": "stdout",
          "output_type": "stream",
          "text": [
            "Mounted at /content/drive\n"
          ]
        }
      ],
      "source": [
        "from google.colab import drive\n",
        "drive.mount('/content/drive', force_remount=True)"
      ]
    },
    {
      "cell_type": "code",
      "execution_count": null,
      "metadata": {
        "colab": {
          "base_uri": "https://localhost:8080/"
        },
        "id": "U5bWXWnpEh2z",
        "outputId": "5ab353ab-8fb5-4154-faa1-6f5f63ca5cb6"
      },
      "outputs": [
        {
          "name": "stdout",
          "output_type": "stream",
          "text": [
            "✅ Model file found!\n"
          ]
        }
      ],
      "source": [
        "import os\n",
        "\n",
        "model_path = \"/content/drive/MyDrive/HAM10000_CNN.h5\"\n",
        "\n",
        "if os.path.exists(model_path):\n",
        "    print(\" Model file found!\")\n",
        "else:\n",
        "    print(\" Model file NOT found! Check if it's saved in Drive.\")"
      ]
    },
    {
      "cell_type": "code",
      "execution_count": null,
      "metadata": {
        "colab": {
          "base_uri": "https://localhost:8080/"
        },
        "id": "MsGQL6nRKQwq",
        "outputId": "e2159bb9-108a-4194-f8b0-77ee86ce75ca"
      },
      "outputs": [
        {
          "name": "stderr",
          "output_type": "stream",
          "text": [
            "WARNING:absl:Compiled the loaded model, but the compiled metrics have yet to be built. `model.compile_metrics` will be empty until you train or evaluate the model.\n"
          ]
        },
        {
          "name": "stdout",
          "output_type": "stream",
          "text": [
            "\u001b[1m1/1\u001b[0m \u001b[32m━━━━━━━━━━━━━━━━━━━━\u001b[0m\u001b[37m\u001b[0m \u001b[1m0s\u001b[0m 274ms/step\n",
            "✅ Predicted Class: Basal Cell Carcinoma\n"
          ]
        }
      ],
      "source": [
        "import cv2\n",
        "import numpy as np\n",
        "from tensorflow.keras.models import load_model\n",
        "\n",
        "# Load your trained model\n",
        "model = load_model(\"/content/drive/MyDrive/HAM10000_CNN.h5\")\n",
        "\n",
        "# Define the correct image path\n",
        "test_image_path = \"/content/drive/MyDrive/ham10000_dataset/HAM10000_organized/Dermatofibroma/ISIC_0024318.jpg\"\n",
        "\n",
        "#  Load and preprocess the image\n",
        "IMG_SIZE = (224, 224)  # Ensure it matches training size\n",
        "image = cv2.imread(test_image_path)\n",
        "\n",
        "if image is None:\n",
        "    print(\" Error: Image file not found! Check the path.\")\n",
        "else:\n",
        "    image = cv2.cvtColor(image, cv2.COLOR_BGR2RGB)\n",
        "    image = cv2.resize(image, IMG_SIZE)\n",
        "    image = image / 255.0  # Normalize\n",
        "    image = np.expand_dims(image, axis=0)  # Add batch dimension\n",
        "\n",
        "    # Predict the class\n",
        "    predictions = model.predict(image)\n",
        "    predicted_class = np.argmax(predictions)  # Get the highest probability class\n",
        "\n",
        "    # Define class labels (ensure they match training labels)\n",
        "    class_labels = ['Actinic Keratoses and Intraepithelial Carcinoma','Basal Cell Carcinoma','Benign Keratosis-like Lesions','Dermatofibroma','Melanoma','Melanocytic Nevi','Vascular Lesions']\n",
        "    predicted_label = class_labels[predicted_class]\n",
        "\n",
        "    print(f\" Predicted Class: {predicted_label}\")"
      ]
    }
  ],
  "metadata": {
    "accelerator": "GPU",
    "colab": {
      "gpuType": "T4",
      "provenance": []
    },
    "kernelspec": {
      "display_name": "Python 3",
      "name": "python3"
    },
    "language_info": {
      "name": "python"
    }
  },
  "nbformat": 4,
  "nbformat_minor": 0
}
